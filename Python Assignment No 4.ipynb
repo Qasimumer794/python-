{
 "cells": [
  {
   "cell_type": "code",
   "execution_count": 2,
   "id": "6977a892",
   "metadata": {},
   "outputs": [
    {
     "name": "stdout",
     "output_type": "stream",
     "text": [
      "Enter first number5\n",
      "Enter second number5\n",
      "Enter operation*\n",
      "25.0\n"
     ]
    }
   ],
   "source": [
    "# Q No 1:Make a calculator using pythin with addition, subtraction, multiplicaion, division and power.\n",
    "# Ans:\n",
    "num1 = float(input(\"Enter first number\"))\n",
    "num2 = float(input(\"Enter second number\"))\n",
    "Op = input(\"Enter operation\")\n",
    "if Op==\"+\":\n",
    "    print(num1+num2)\n",
    "elif Op==\"-\":\n",
    "    print(num1-num2)\n",
    "elif Op==\"*\":\n",
    "    print(num1*num2)\n",
    "elif Op==\"/\":\n",
    "    print(num1/num2)\n",
    "elif Op==\"**\":\n",
    "    print(num1**num2)\n",
    "else:\n",
    "    print(\"Invalid option\")\n"
   ]
  },
  {
   "cell_type": "code",
   "execution_count": 4,
   "id": "d83e5b99",
   "metadata": {},
   "outputs": [
    {
     "name": "stdout",
     "output_type": "stream",
     "text": [
      "Checking if 4 exists in list ( using loop ) : \n",
      "Element Exists\n"
     ]
    }
   ],
   "source": [
    "# Q No 2: write a aprogram to check if there is any numeric value in list using for loop.\n",
    "# Ans:\n",
    "test_list = [ 1, 6, 3, 5, 3, 4 ]\n",
    "print(\"Checking if 4 exists in list ( using loop ) : \")\n",
    "for i in test_list:\n",
    "\tif(i == 4) :\n",
    "\t\tprint (\"Element Exists\")"
   ]
  },
  {
   "cell_type": "code",
   "execution_count": 5,
   "id": "d2a3b3a0",
   "metadata": {},
   "outputs": [
    {
     "name": "stdout",
     "output_type": "stream",
     "text": [
      "{0: 10, 1: 20}\n",
      "{0: 10, 1: 20, 2: 30}\n"
     ]
    }
   ],
   "source": [
    "# Q No 3 write a pythin script to add a key to a dictionary\n",
    "# Ans:\n",
    "d = {0:10, 1:20}\n",
    "print(d)\n",
    "d.update({2:30})\n",
    "print(d)\n"
   ]
  },
  {
   "cell_type": "code",
   "execution_count": 6,
   "id": "aece533b",
   "metadata": {},
   "outputs": [
    {
     "name": "stdout",
     "output_type": "stream",
     "text": [
      "203\n"
     ]
    }
   ],
   "source": [
    "# Q No 4: Write a pythin programto sum all the numeric items in a dictionary.\n",
    "# Ans:\n",
    "my_dict = {'data1':10,'data2':-54,'data3':247}\n",
    "print(sum(my_dict.values()))"
   ]
  },
  {
   "cell_type": "code",
   "execution_count": 7,
   "id": "7ab95d64",
   "metadata": {},
   "outputs": [
    {
     "name": "stdout",
     "output_type": "stream",
     "text": [
      "[20, 30, -20, 60]\n"
     ]
    }
   ],
   "source": [
    "# Q No 5: write a program to identify duplicate valuses from list.\n",
    "# Ans:\n",
    "def Repeat(x):\n",
    "    _size = len(x)\n",
    "    repeated = []\n",
    "    for i in range(_size):\n",
    "        k = i + 1\n",
    "        for j in range(k, _size):\n",
    "            if x[i] == x[j] and x[i] not in repeated:\n",
    "                repeated.append(x[i])\n",
    "    return repeated\n",
    "list1 = [10, 20, 30, 20, 20, 30, 40, 50, -20, 60, 60, -20, -20]\n",
    "print (Repeat(list1))"
   ]
  },
  {
   "cell_type": "code",
   "execution_count": 8,
   "id": "d6b6855a",
   "metadata": {},
   "outputs": [
    {
     "name": "stdout",
     "output_type": "stream",
     "text": [
      "Key is present in the dictionary\n",
      "Key is not present in the dictionary\n"
     ]
    }
   ],
   "source": [
    "#  Q No 6: write a python script to check if a given key already exists in a dictionary.\n",
    "# Ans:\n",
    "d = {1: 10, 2: 20, 3: 30, 4: 40, 5: 50, 6: 60}\n",
    "def is_key_present(x):\n",
    "  if x in d:\n",
    "      print('Key is present in the dictionary')\n",
    "  else:\n",
    "      print('Key is not present in the dictionary')\n",
    "is_key_present(3)\n",
    "is_key_present(9)"
   ]
  },
  {
   "cell_type": "code",
   "execution_count": null,
   "id": "90ab2345",
   "metadata": {},
   "outputs": [],
   "source": []
  }
 ],
 "metadata": {
  "kernelspec": {
   "display_name": "Python 3",
   "language": "python",
   "name": "python3"
  },
  "language_info": {
   "codemirror_mode": {
    "name": "ipython",
    "version": 3
   },
   "file_extension": ".py",
   "mimetype": "text/x-python",
   "name": "python",
   "nbconvert_exporter": "python",
   "pygments_lexer": "ipython3",
   "version": "3.8.8"
  }
 },
 "nbformat": 4,
 "nbformat_minor": 5
}
